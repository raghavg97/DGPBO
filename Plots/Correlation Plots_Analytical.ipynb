{
 "cells": [
  {
   "cell_type": "code",
   "execution_count": 53,
   "id": "a77799b6-d566-420c-b330-d06ae7bab4ae",
   "metadata": {},
   "outputs": [],
   "source": [
    "import numpy as np\n",
    "from dgp import dgp\n",
    "from kernel_class import kernel\n",
    "from kernel_class import combine\n",
    "import linkgp\n",
    "from emulation import emulator\n",
    "import numpy as np\n",
    "import matplotlib.pyplot as plt\n",
    "from smt.sampling_methods import LHS\n",
    "\n",
    "from eval_functions_28Apr2022 import *"
   ]
  },
  {
   "cell_type": "code",
   "execution_count": 54,
   "id": "60c8f9e8-fdcd-44bc-90b0-0d69fc0d0b9c",
   "metadata": {},
   "outputs": [
    {
     "name": "stdout",
     "output_type": "stream",
     "text": [
      "LOOCV  0\n",
      "Rep number  0\n"
     ]
    },
    {
     "name": "stderr",
     "output_type": "stream",
     "text": [
      "Iteration 500: Layer 2: 100%|██████████| 500/500 [00:11<00:00, 44.55it/s]\n"
     ]
    },
    {
     "name": "stdout",
     "output_type": "stream",
     "text": [
      "LOOCV  1\n",
      "Rep number  0\n"
     ]
    },
    {
     "name": "stderr",
     "output_type": "stream",
     "text": [
      "Iteration 500: Layer 2: 100%|██████████| 500/500 [00:11<00:00, 41.97it/s]\n"
     ]
    },
    {
     "name": "stdout",
     "output_type": "stream",
     "text": [
      "LOOCV  2\n",
      "Rep number  0\n"
     ]
    },
    {
     "name": "stderr",
     "output_type": "stream",
     "text": [
      "Iteration 500: Layer 2: 100%|██████████| 500/500 [00:15<00:00, 31.62it/s]\n"
     ]
    },
    {
     "name": "stdout",
     "output_type": "stream",
     "text": [
      "LOOCV  3\n",
      "Rep number  0\n"
     ]
    },
    {
     "name": "stderr",
     "output_type": "stream",
     "text": [
      "Iteration 500: Layer 2: 100%|██████████| 500/500 [00:16<00:00, 30.27it/s]\n"
     ]
    },
    {
     "name": "stdout",
     "output_type": "stream",
     "text": [
      "LOOCV  4\n",
      "Rep number  0\n"
     ]
    },
    {
     "name": "stderr",
     "output_type": "stream",
     "text": [
      "Iteration 500: Layer 2: 100%|██████████| 500/500 [00:15<00:00, 32.16it/s]\n"
     ]
    },
    {
     "name": "stdout",
     "output_type": "stream",
     "text": [
      "LOOCV  5\n",
      "Rep number  0\n"
     ]
    },
    {
     "name": "stderr",
     "output_type": "stream",
     "text": [
      "Iteration 500: Layer 2: 100%|██████████| 500/500 [00:16<00:00, 30.85it/s]\n"
     ]
    },
    {
     "name": "stdout",
     "output_type": "stream",
     "text": [
      "LOOCV  6\n",
      "Rep number  0\n"
     ]
    },
    {
     "name": "stderr",
     "output_type": "stream",
     "text": [
      "Iteration 500: Layer 2: 100%|██████████| 500/500 [00:15<00:00, 31.59it/s]\n"
     ]
    },
    {
     "name": "stdout",
     "output_type": "stream",
     "text": [
      "LOOCV  7\n",
      "Rep number  0\n"
     ]
    },
    {
     "name": "stderr",
     "output_type": "stream",
     "text": [
      "Iteration 500: Layer 2: 100%|██████████| 500/500 [00:15<00:00, 33.09it/s]\n"
     ]
    },
    {
     "name": "stdout",
     "output_type": "stream",
     "text": [
      "LOOCV  8\n",
      "Rep number  0\n"
     ]
    },
    {
     "name": "stderr",
     "output_type": "stream",
     "text": [
      "Iteration 500: Layer 2: 100%|██████████| 500/500 [00:15<00:00, 31.77it/s]\n"
     ]
    },
    {
     "name": "stdout",
     "output_type": "stream",
     "text": [
      "LOOCV  9\n",
      "Rep number  0\n"
     ]
    },
    {
     "name": "stderr",
     "output_type": "stream",
     "text": [
      "Iteration 500: Layer 2: 100%|██████████| 500/500 [00:15<00:00, 31.31it/s]\n"
     ]
    },
    {
     "name": "stdout",
     "output_type": "stream",
     "text": [
      "LOOCV  10\n",
      "Rep number  0\n"
     ]
    },
    {
     "name": "stderr",
     "output_type": "stream",
     "text": [
      "Iteration 500: Layer 2: 100%|██████████| 500/500 [00:16<00:00, 31.17it/s]\n"
     ]
    },
    {
     "name": "stdout",
     "output_type": "stream",
     "text": [
      "LOOCV  11\n",
      "Rep number  0\n"
     ]
    },
    {
     "name": "stderr",
     "output_type": "stream",
     "text": [
      "Iteration 500: Layer 2: 100%|██████████| 500/500 [00:15<00:00, 32.01it/s]\n"
     ]
    },
    {
     "name": "stdout",
     "output_type": "stream",
     "text": [
      "LOOCV  12\n",
      "Rep number  0\n"
     ]
    },
    {
     "name": "stderr",
     "output_type": "stream",
     "text": [
      "Iteration 500: Layer 2: 100%|██████████| 500/500 [00:16<00:00, 31.04it/s]\n"
     ]
    },
    {
     "name": "stdout",
     "output_type": "stream",
     "text": [
      "LOOCV  13\n",
      "Rep number  0\n"
     ]
    },
    {
     "name": "stderr",
     "output_type": "stream",
     "text": [
      "Iteration 500: Layer 2: 100%|██████████| 500/500 [00:16<00:00, 30.98it/s]\n"
     ]
    },
    {
     "name": "stdout",
     "output_type": "stream",
     "text": [
      "LOOCV  14\n",
      "Rep number  0\n"
     ]
    },
    {
     "name": "stderr",
     "output_type": "stream",
     "text": [
      "Iteration 500: Layer 2: 100%|██████████| 500/500 [00:15<00:00, 31.26it/s]\n"
     ]
    },
    {
     "name": "stdout",
     "output_type": "stream",
     "text": [
      "LOOCV  15\n",
      "Rep number  0\n"
     ]
    },
    {
     "name": "stderr",
     "output_type": "stream",
     "text": [
      "Iteration 500: Layer 2: 100%|██████████| 500/500 [00:16<00:00, 31.01it/s]\n"
     ]
    },
    {
     "name": "stdout",
     "output_type": "stream",
     "text": [
      "LOOCV  16\n",
      "Rep number  0\n"
     ]
    },
    {
     "name": "stderr",
     "output_type": "stream",
     "text": [
      "Iteration 500: Layer 2: 100%|██████████| 500/500 [00:15<00:00, 32.59it/s]\n"
     ]
    },
    {
     "name": "stdout",
     "output_type": "stream",
     "text": [
      "LOOCV  17\n",
      "Rep number  0\n"
     ]
    },
    {
     "name": "stderr",
     "output_type": "stream",
     "text": [
      "Iteration 500: Layer 2: 100%|██████████| 500/500 [00:10<00:00, 46.42it/s]\n"
     ]
    },
    {
     "name": "stdout",
     "output_type": "stream",
     "text": [
      "LOOCV  18\n",
      "Rep number  0\n"
     ]
    },
    {
     "name": "stderr",
     "output_type": "stream",
     "text": [
      "Iteration 500: Layer 2: 100%|██████████| 500/500 [00:12<00:00, 41.33it/s]\n"
     ]
    },
    {
     "name": "stdout",
     "output_type": "stream",
     "text": [
      "LOOCV  19\n",
      "Rep number  0\n"
     ]
    },
    {
     "name": "stderr",
     "output_type": "stream",
     "text": [
      "Iteration 500: Layer 2: 100%|██████████| 500/500 [00:15<00:00, 33.11it/s]\n"
     ]
    }
   ],
   "source": [
    "d = 2\n",
    "f = camel_3h\n",
    "\n",
    "x_lb = np.zeros((d,1))\n",
    "x_ub = np.ones((d,1))\n",
    "\n",
    "xlimits = np.hstack((x_lb,x_ub))\n",
    "\n",
    "N_predict = 50\n",
    "\n",
    "n = 20\n",
    "layer1 = []   \n",
    "for _ in range(d):\n",
    "    layer1.append(kernel(length=np.array([1]),name='sexp',nugget_est=True))\n",
    "layer2 = [kernel(length=np.array([1]),name='sexp',nugget_est=True,connect = np.arange(d))]\n",
    "all_layer_init=combine(layer1,layer2)\n",
    "\n",
    "seed = 0\n",
    "np.random.seed(seed) \n",
    "lhs_sampling = LHS(xlimits = xlimits,random_state = seed, criterion = 'maximin')\n",
    "x_lhs = lhs_sampling(n)\n",
    "y_lhs = f(x_lhs).reshape(-1,1)\n",
    "\n",
    "total_reps = 1\n",
    "\n",
    "y_pred = np.zeros((n,total_reps))\n",
    "for loocv in range(n):\n",
    "        x = np.delete(x_lhs,loocv,axis =0)\n",
    "        y = np.delete(y_lhs,loocv,axis =0)\n",
    "        \n",
    "        print(\"LOOCV \",loocv)\n",
    "        xx = x_lhs[loocv,:]\n",
    "        y_true = y_lhs[loocv,:]\n",
    "        for reps in range(total_reps):\n",
    "            print('Rep number ',reps)\n",
    "            all_layer = all_layer_init \n",
    "\n",
    "            y_std = np.std(y)\n",
    "\n",
    "            y = y/y_std\n",
    "            \n",
    "            x = x.reshape(-1,d)\n",
    "            y = y.reshape(-1,1)\n",
    "\n",
    "            np.random.seed(reps*23)  \n",
    "\n",
    "            model=dgp(x,[y],1000*loocv+2*reps,all_layer = all_layer,check_rep = False)\n",
    "\n",
    "\n",
    "            model.initialize(seed = 1000*loocv+2*reps)\n",
    "            model.train(N=500,disable = False)\n",
    "            all_layer=model.estimate()\n",
    "\n",
    "            emu=emulator(all_layer,N=N_predict,nb_parallel = True)\n",
    "\n",
    "            np.random.seed(1000*loocv+2*reps) \n",
    "\n",
    "            #res = emu.ppredict(x=np.reshape(xx,(-1,d)), sample_size=1, method='mean_var',chunk_num = 28,core_num = 28)\n",
    "            res = emu.ppredict(x=np.reshape(xx,(-1,d)), sample_size=1, method='mean_var',chunk_num = 27,core_num = 27)\n",
    "\n",
    "            mu_all = np.transpose(np.array(res[2]))\n",
    "            \n",
    "            y_pred[loocv,reps] = np.mean(mu_all)*y_std\n",
    "            # print(mu_all)"
   ]
  },
  {
   "cell_type": "code",
   "execution_count": 58,
   "id": "d094198f-59bf-4996-a49e-41d922811196",
   "metadata": {},
   "outputs": [
    {
     "data": {
      "text/plain": [
       "(0.0, 1500.0)"
      ]
     },
     "execution_count": 58,
     "metadata": {},
     "output_type": "execute_result"
    },
    {
     "data": {
      "image/png": "[encoded data removed]",
      "text/plain": [
       "<Figure size 640x480 with 1 Axes>"
      ]
     },
     "metadata": {},
     "output_type": "display_data"
    }
   ],
   "source": [
    "plt.plot(y_lhs,y_pred,'r*')\n",
    "plt.xlim([0,1500])\n",
    "plt.ylim([0,1500])"
   ]
  }
 ],
 "metadata": {
  "kernelspec": {
   "display_name": "Python 3",
   "language": "python",
   "name": "python3"
  },
  "language_info": {
   "codemirror_mode": {
    "name": "ipython",
    "version": 3
   },
   "file_extension": ".py",
   "mimetype": "text/x-python",
   "name": "python",
   "nbconvert_exporter": "python",
   "pygments_lexer": "ipython3",
   "version": "3.7.13"
  }
 },
 "nbformat": 4,
 "nbformat_minor": 5
}
